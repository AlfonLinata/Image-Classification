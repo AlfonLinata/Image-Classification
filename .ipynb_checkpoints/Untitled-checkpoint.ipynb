{
 "cells": [
  {
   "cell_type": "code",
   "execution_count": 3,
   "metadata": {},
   "outputs": [],
   "source": [
    "import numpy as np\n",
    "import matplotlib.pyplot as plt\n",
    "import os\n",
    "import cv2"
   ]
  },
  {
   "cell_type": "code",
   "execution_count": 68,
   "metadata": {},
   "outputs": [],
   "source": [
    "datadir = './PetImages' #where our image folder located\n",
    "categories = ['Cat', 'Dog'] #the name of folder for every category of animal\n",
    "size = (50, 50) #image size that we want to use for our model"
   ]
  },
  {
   "cell_type": "code",
   "execution_count": 85,
   "metadata": {},
   "outputs": [],
   "source": [
    "training_data = []\n",
    "\n",
    "def create_training_data():\n",
    "    for category in categories:\n",
    "        path = os.path.join(datadir, category) #get the path for the category\n",
    "        category_index = categories.index(category) #index of the category to append\n",
    "        for img in os.listdir(path):\n",
    "            try:\n",
    "                img_array = cv2.imread(os.path.join(path, img), cv2.IMREAD_GRAYSCALE) #convert image to numerical value\n",
    "                new_array = cv2.resize(img_array, size) #resize the image to make every image the same size\n",
    "                training_data.append([new_array, category_index]) #append image and its category\n",
    "            except:\n",
    "                pass\n",
    "            \n",
    "create_training_data()"
   ]
  },
  {
   "cell_type": "code",
   "execution_count": 121,
   "metadata": {},
   "outputs": [
    {
     "name": "stdout",
     "output_type": "stream",
     "text": [
      "24946\n"
     ]
    }
   ],
   "source": [
    "print(len(training_data))"
   ]
  },
  {
   "cell_type": "code",
   "execution_count": 87,
   "metadata": {},
   "outputs": [
    {
     "name": "stdout",
     "output_type": "stream",
     "text": [
      "0\n",
      "1\n",
      "1\n",
      "0\n",
      "1\n",
      "0\n",
      "1\n",
      "1\n",
      "1\n",
      "1\n"
     ]
    }
   ],
   "source": [
    "# We should randomized our training set because it sorted by category\n",
    "import random\n",
    "\n",
    "random.shuffle(training_data)\n",
    "\n",
    "#Check if our data already random\n",
    "for sample in training_data[:10]:\n",
    "    print(sample[1])"
   ]
  },
  {
   "cell_type": "code",
   "execution_count": 98,
   "metadata": {},
   "outputs": [
    {
     "data": {
      "text/plain": [
       "(24946, 50, 50, 1)"
      ]
     },
     "execution_count": 98,
     "metadata": {},
     "output_type": "execute_result"
    }
   ],
   "source": [
    "#Parse training data to x and y\n",
    "X = []\n",
    "y = []\n",
    "\n",
    "for data in training_data:\n",
    "    X.append(data[0])\n",
    "    y.append(data[1])\n",
    "\n",
    "X = np.array(X).reshape(-1, size[0], size[1], 1) #-1 is the number of our data and 3 is rgb, if we use black and white it will be 1\n",
    "y = np.asarray(y)\n",
    "\n",
    "X.shape"
   ]
  },
  {
   "cell_type": "code",
   "execution_count": 99,
   "metadata": {},
   "outputs": [],
   "source": [
    "# Save our training data\n",
    "import pickle\n",
    "\n",
    "pickle_out = open(\"X.pickle\", 'wb')\n",
    "pickle.dump(X, pickle_out)\n",
    "pickle_out.close()\n",
    "\n",
    "pickle_out = open(\"y.pickle\", 'wb')\n",
    "pickle.dump(y, pickle_out)\n",
    "pickle_out.close()"
   ]
  },
  {
   "cell_type": "code",
   "execution_count": 100,
   "metadata": {},
   "outputs": [
    {
     "name": "stdout",
     "output_type": "stream",
     "text": [
      "[[[ 44]\n",
      "  [ 38]\n",
      "  [ 65]\n",
      "  ...\n",
      "  [182]\n",
      "  [178]\n",
      "  [171]]\n",
      "\n",
      " [[ 35]\n",
      "  [ 43]\n",
      "  [ 52]\n",
      "  ...\n",
      "  [185]\n",
      "  [181]\n",
      "  [110]]\n",
      "\n",
      " [[ 37]\n",
      "  [ 30]\n",
      "  [ 54]\n",
      "  ...\n",
      "  [172]\n",
      "  [118]\n",
      "  [113]]\n",
      "\n",
      " ...\n",
      "\n",
      " [[ 20]\n",
      "  [ 29]\n",
      "  [ 29]\n",
      "  ...\n",
      "  [182]\n",
      "  [ 47]\n",
      "  [ 33]]\n",
      "\n",
      " [[ 18]\n",
      "  [ 20]\n",
      "  [ 26]\n",
      "  ...\n",
      "  [ 54]\n",
      "  [ 35]\n",
      "  [ 31]]\n",
      "\n",
      " [[ 14]\n",
      "  [ 15]\n",
      "  [ 15]\n",
      "  ...\n",
      "  [ 42]\n",
      "  [ 31]\n",
      "  [ 27]]] 0\n"
     ]
    }
   ],
   "source": [
    "# Load our data back\n",
    "\n",
    "pickle_in = open(\"X.pickle\", \"rb\")\n",
    "X = pickle.load(pickle_in)\n",
    "# Normalize the value\n",
    "# In rgb the max value is 255 and the min is 0, so we cann normalize it simply by dividing x by 255\n",
    "X = X/255.0\n",
    "\n",
    "\n",
    "pickle_in = open(\"y.pickle\", \"rb\")\n",
    "y = pickle.load(pickle_in)\n",
    "\n",
    "print(X[0], y[0])"
   ]
  },
  {
   "cell_type": "markdown",
   "metadata": {},
   "source": [
    "# Creating Model"
   ]
  },
  {
   "cell_type": "code",
   "execution_count": 35,
   "metadata": {},
   "outputs": [],
   "source": [
    "import tensorflow as tf\n",
    "from tensorflow.keras.models import Sequential\n",
    "from tensorflow.keras.layers import Dense, Flatten, Activation, Conv2D, Dropout, MaxPooling2D\n",
    "from tensorflow.keras.optimizers import SGD"
   ]
  },
  {
   "cell_type": "markdown",
   "metadata": {},
   "source": [
    "### Split the data into train and test"
   ]
  },
  {
   "cell_type": "code",
   "execution_count": 108,
   "metadata": {},
   "outputs": [
    {
     "name": "stdout",
     "output_type": "stream",
     "text": [
      "Train set: (19956, 50, 50, 1) 19956\n",
      "Test set: (4990, 50, 50, 1) 4990\n"
     ]
    }
   ],
   "source": [
    "from sklearn.model_selection import train_test_split\n",
    "\n",
    "#split X and y\n",
    "X_train, X_test, y_train, y_test = train_test_split( X, y, test_size=0.2, random_state=4)\n",
    "print ('Train set:', X_train.shape,  len(y_train))\n",
    "print ('Test set:', X_test.shape,  len(y_test))"
   ]
  },
  {
   "cell_type": "markdown",
   "metadata": {},
   "source": [
    "### Convolutional Neural Network"
   ]
  },
  {
   "cell_type": "code",
   "execution_count": 110,
   "metadata": {},
   "outputs": [
    {
     "name": "stdout",
     "output_type": "stream",
     "text": [
      "Epoch 1/10\n",
      "562/562 [==============================] - 151s 268ms/step - loss: 0.6468 - accuracy: 0.6257 - val_loss: 0.5996 - val_accuracy: 0.6769\n",
      "Epoch 2/10\n",
      "562/562 [==============================] - 125s 222ms/step - loss: 0.5565 - accuracy: 0.7193 - val_loss: 0.5224 - val_accuracy: 0.7455\n",
      "Epoch 3/10\n",
      "562/562 [==============================] - 117s 208ms/step - loss: 0.4998 - accuracy: 0.7561 - val_loss: 0.4885 - val_accuracy: 0.7725\n",
      "Epoch 4/10\n",
      "562/562 [==============================] - 117s 208ms/step - loss: 0.4635 - accuracy: 0.7820 - val_loss: 0.4848 - val_accuracy: 0.7740\n",
      "Epoch 5/10\n",
      "562/562 [==============================] - 119s 212ms/step - loss: 0.4309 - accuracy: 0.8027 - val_loss: 0.4652 - val_accuracy: 0.7826\n",
      "Epoch 6/10\n",
      "562/562 [==============================] - 119s 211ms/step - loss: 0.4097 - accuracy: 0.8169 - val_loss: 0.4691 - val_accuracy: 0.7931\n",
      "Epoch 7/10\n",
      "562/562 [==============================] - 120s 214ms/step - loss: 0.3799 - accuracy: 0.8312 - val_loss: 0.4690 - val_accuracy: 0.7791\n",
      "Epoch 8/10\n",
      "562/562 [==============================] - 118s 209ms/step - loss: 0.3593 - accuracy: 0.8411 - val_loss: 0.5193 - val_accuracy: 0.7766\n",
      "Epoch 9/10\n",
      "562/562 [==============================] - 116s 207ms/step - loss: 0.3383 - accuracy: 0.8504 - val_loss: 0.4901 - val_accuracy: 0.7836\n",
      "Epoch 10/10\n",
      "562/562 [==============================] - 119s 211ms/step - loss: 0.3215 - accuracy: 0.8586 - val_loss: 0.5240 - val_accuracy: 0.7776\n"
     ]
    },
    {
     "data": {
      "text/plain": [
       "<tensorflow.python.keras.callbacks.History at 0x21523905f48>"
      ]
     },
     "execution_count": 110,
     "metadata": {},
     "output_type": "execute_result"
    }
   ],
   "source": [
    "\n",
    "opt = SGD(lr=0.01, decay=1e-6, momentum=0.9, nesterov=True)\n",
    "\n",
    "model = Sequential()\n",
    "\n",
    "model.add(Conv2D(64, (3,3), input_shape = X.shape[1:]))\n",
    "model.add(Activation(\"relu\"))\n",
    "model.add(MaxPooling2D(pool_size=(2,2)))\n",
    "\n",
    "model.add(Conv2D(64, (3,3)))\n",
    "model.add(Activation(\"relu\"))\n",
    "model.add(MaxPooling2D(pool_size=(2,2)))\n",
    "\n",
    "model.add(Flatten())\n",
    "model.add(Dense(64))\n",
    "\n",
    "model.add(Dense(1))\n",
    "model.add(Activation(\"sigmoid\"))\n",
    "\n",
    "model.compile(loss=\"binary_crossentropy\",\n",
    "             optimizer=\"adam\",\n",
    "             metrics = ['accuracy'])\n",
    "\n",
    "model.fit(X_train, y_train, validation_split=0.1, epochs=9, batch_size=32)"
   ]
  },
  {
   "cell_type": "code",
   "execution_count": 111,
   "metadata": {},
   "outputs": [
    {
     "name": "stdout",
     "output_type": "stream",
     "text": [
      "156/156 [==============================] - 9s 61ms/step - loss: 0.5273 - accuracy: 0.7667\n"
     ]
    },
    {
     "data": {
      "text/plain": [
       "[0.5273363590240479, 0.7667334675788879]"
      ]
     },
     "execution_count": 111,
     "metadata": {},
     "output_type": "execute_result"
    }
   ],
   "source": [
    "model.evaluate(X_test, y_test)"
   ]
  },
  {
   "cell_type": "code",
   "execution_count": 112,
   "metadata": {},
   "outputs": [
    {
     "name": "stdout",
     "output_type": "stream",
     "text": [
      "WARNING:tensorflow:From C:\\Users\\marse\\anaconda3\\lib\\site-packages\\tensorflow\\python\\training\\tracking\\tracking.py:111: Model.state_updates (from tensorflow.python.keras.engine.training) is deprecated and will be removed in a future version.\n",
      "Instructions for updating:\n",
      "This property should not be used in TensorFlow 2.0, as updates are applied automatically.\n",
      "WARNING:tensorflow:From C:\\Users\\marse\\anaconda3\\lib\\site-packages\\tensorflow\\python\\training\\tracking\\tracking.py:111: Layer.updates (from tensorflow.python.keras.engine.base_layer) is deprecated and will be removed in a future version.\n",
      "Instructions for updating:\n",
      "This property should not be used in TensorFlow 2.0, as updates are applied automatically.\n",
      "INFO:tensorflow:Assets written to: ./my_model\\assets\n"
     ]
    }
   ],
   "source": [
    "model.save('./my_model')"
   ]
  },
  {
   "cell_type": "code",
   "execution_count": 115,
   "metadata": {},
   "outputs": [],
   "source": [
    "load_model = tf.keras.models.load_model('my_model')"
   ]
  },
  {
   "cell_type": "code",
   "execution_count": 148,
   "metadata": {},
   "outputs": [
    {
     "ename": "error",
     "evalue": "OpenCV(4.4.0) C:\\Users\\appveyor\\AppData\\Local\\Temp\\1\\pip-req-build-2b5g8ysb\\opencv\\modules\\imgproc\\src\\resize.cpp:3929: error: (-215:Assertion failed) !ssize.empty() in function 'cv::resize'\n",
     "output_type": "error",
     "traceback": [
      "\u001b[1;31m---------------------------------------------------------------------------\u001b[0m",
      "\u001b[1;31merror\u001b[0m                                     Traceback (most recent call last)",
      "\u001b[1;32m<ipython-input-148-52b9893d07d6>\u001b[0m in \u001b[0;36m<module>\u001b[1;34m\u001b[0m\n\u001b[0;32m      4\u001b[0m \u001b[1;32mfor\u001b[0m \u001b[0mimg\u001b[0m \u001b[1;32min\u001b[0m \u001b[0mos\u001b[0m\u001b[1;33m.\u001b[0m\u001b[0mlistdir\u001b[0m\u001b[1;33m(\u001b[0m\u001b[0mos\u001b[0m\u001b[1;33m.\u001b[0m\u001b[0mpath\u001b[0m\u001b[1;33m.\u001b[0m\u001b[0mjoin\u001b[0m\u001b[1;33m(\u001b[0m\u001b[1;34m'./animals/cats'\u001b[0m\u001b[1;33m)\u001b[0m\u001b[1;33m)\u001b[0m\u001b[1;33m:\u001b[0m\u001b[1;33m\u001b[0m\u001b[1;33m\u001b[0m\u001b[0m\n\u001b[0;32m      5\u001b[0m     \u001b[0mimg_arr\u001b[0m \u001b[1;33m=\u001b[0m \u001b[0mcv2\u001b[0m\u001b[1;33m.\u001b[0m\u001b[0mimread\u001b[0m\u001b[1;33m(\u001b[0m\u001b[0mimg\u001b[0m\u001b[1;33m,\u001b[0m \u001b[0mcv2\u001b[0m\u001b[1;33m.\u001b[0m\u001b[0mIMREAD_GRAYSCALE\u001b[0m\u001b[1;33m)\u001b[0m\u001b[1;33m\u001b[0m\u001b[1;33m\u001b[0m\u001b[0m\n\u001b[1;32m----> 6\u001b[1;33m     \u001b[0mnew_array\u001b[0m \u001b[1;33m=\u001b[0m \u001b[0mcv2\u001b[0m\u001b[1;33m.\u001b[0m\u001b[0mresize\u001b[0m\u001b[1;33m(\u001b[0m\u001b[0mimg_arr\u001b[0m\u001b[1;33m,\u001b[0m \u001b[0msize\u001b[0m\u001b[1;33m)\u001b[0m\u001b[1;33m\u001b[0m\u001b[1;33m\u001b[0m\u001b[0m\n\u001b[0m\u001b[0;32m      7\u001b[0m     \u001b[0mtest_cat\u001b[0m\u001b[1;33m.\u001b[0m\u001b[0mappend\u001b[0m\u001b[1;33m(\u001b[0m\u001b[0mnew_array\u001b[0m\u001b[1;33m)\u001b[0m\u001b[1;33m\u001b[0m\u001b[1;33m\u001b[0m\u001b[0m\n",
      "\u001b[1;31merror\u001b[0m: OpenCV(4.4.0) C:\\Users\\appveyor\\AppData\\Local\\Temp\\1\\pip-req-build-2b5g8ysb\\opencv\\modules\\imgproc\\src\\resize.cpp:3929: error: (-215:Assertion failed) !ssize.empty() in function 'cv::resize'\n"
     ]
    }
   ],
   "source": [
    "#Try random image I've just downloaded\n",
    "test_cat = []\n",
    "\n",
    "for img in os.listdir(os.path.join('./animals/cats')):\n",
    "    img_arr = cv2.imread(img, cv2.IMREAD_GRAYSCALE)\n",
    "    new_array = cv2.resize(img_arr, size)\n",
    "    test_cat.append(new_array)"
   ]
  },
  {
   "cell_type": "code",
   "execution_count": null,
   "metadata": {},
   "outputs": [],
   "source": []
  },
  {
   "cell_type": "code",
   "execution_count": 145,
   "metadata": {},
   "outputs": [
    {
     "name": "stdout",
     "output_type": "stream",
     "text": [
      "[[0.00745404]]\n"
     ]
    }
   ],
   "source": [
    "img_pixel = np.array(test_cat).reshape(-1, size[0], size[1], 1)\n",
    "img_pixel = img_pixel / 255.0\n",
    "yhat = load_model.predict(img_pixel)\n",
    "print(yhat)"
   ]
  }
 ],
 "metadata": {
  "kernelspec": {
   "display_name": "Python 3",
   "language": "python",
   "name": "python3"
  },
  "language_info": {
   "codemirror_mode": {
    "name": "ipython",
    "version": 3
   },
   "file_extension": ".py",
   "mimetype": "text/x-python",
   "name": "python",
   "nbconvert_exporter": "python",
   "pygments_lexer": "ipython3",
   "version": "3.7.6"
  }
 },
 "nbformat": 4,
 "nbformat_minor": 4
}
